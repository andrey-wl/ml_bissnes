{
 "cells": [
  {
   "cell_type": "markdown",
   "metadata": {
    "id": "BcCzq5fjdkwD"
   },
   "source": [
    "### Проверка того, что наше api работает\n",
    "\n",
    "Перед началом необходимо собрать docker-образ и запустить контейнер\n",
    "\n",
    "1. Следовать инструкциям https://github.com/fimochka-sudo/GB_docker_flask_example/blob/main/README.md\n",
    "2. Далее уже запускать код ниже"
   ]
  },
  {
   "cell_type": "code",
   "execution_count": 2,
   "metadata": {
    "id": "_NMVLshSdkwP",
    "outputId": "1717a226-3544-4e17-d8fb-996f9bb71e9b"
   },
   "outputs": [],
   "source": [
    "import pandas as pd\n",
    "from sklearn.metrics import roc_auc_score,roc_curve\n",
    "from urllib import request, parse\n",
    "\n",
    "X_test = pd.read_csv(\"X_test.csv\")\n",
    "#y_test = pd.read_csv(\"y_test.csv\")"
   ]
  },
  {
   "cell_type": "code",
   "execution_count": 3,
   "metadata": {
    "id": "QnQVUf2FdkwT"
   },
   "outputs": [],
   "source": [
    "import urllib.request\n",
    "import json      \n",
    "\n",
    "\n",
    "def get_prediction(x, y):\n",
    "    keyword, text = x, y\n",
    "    body = {'keyword': keyword, \n",
    "            'text': text}\n",
    "    \n",
    "    myurl = \"http://0.0.0.0:8180/predict\"\n",
    "    req = urllib.request.Request(myurl)\n",
    "    req.add_header('Content-Type', 'application/json; charset=utf-8')\n",
    "    jsondata = json.dumps(body)\n",
    "    jsondataasbytes = jsondata.encode('utf-8')   # needs to be bytes\n",
    "    req.add_header('Content-Length', len(jsondataasbytes))\n",
    "    print (jsondataasbytes)\n",
    "    response = urllib.request.urlopen(req, jsondataasbytes)\n",
    "    return json.loads(response.read())['predictions']"
   ]
  },
  {
   "cell_type": "code",
   "execution_count": 6,
   "metadata": {},
   "outputs": [],
   "source": [
    "n = 14\n",
    "m = n + 1\n",
    "x = X_test['keyword'].iloc[n : m].values[0]\n",
    "y = X_test['text'].iloc[n : m].values[0]"
   ]
  },
  {
   "cell_type": "code",
   "execution_count": 7,
   "metadata": {
    "id": "azj9nkk_dkwU"
   },
   "outputs": [
    {
     "name": "stdout",
     "output_type": "stream",
     "text": [
      "b'{\"keyword\": \"casualty\", \"text\": \"Benzema increasingly looks to be a casualty of Benitez\\'s new look squad. Arsenal bound? 50-50 chance I think\"}'\n"
     ]
    },
    {
     "data": {
      "text/plain": [
       "0.30742467411764907"
      ]
     },
     "execution_count": 7,
     "metadata": {},
     "output_type": "execute_result"
    }
   ],
   "source": [
    "get_prediction(x, y)"
   ]
  },
  {
   "cell_type": "code",
   "execution_count": null,
   "metadata": {},
   "outputs": [],
   "source": []
  }
 ],
 "metadata": {
  "colab": {
   "name": "Step3_predict_api_integration.ipynb",
   "provenance": []
  },
  "kernelspec": {
   "display_name": "Python 3 (ipykernel)",
   "language": "python",
   "name": "python3"
  },
  "language_info": {
   "codemirror_mode": {
    "name": "ipython",
    "version": 3
   },
   "file_extension": ".py",
   "mimetype": "text/x-python",
   "name": "python",
   "nbconvert_exporter": "python",
   "pygments_lexer": "ipython3",
   "version": "3.9.12"
  }
 },
 "nbformat": 4,
 "nbformat_minor": 4
}
